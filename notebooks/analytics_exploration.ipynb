{
 "cells": [
  {
   "cell_type": "code",
   "execution_count": 20,
   "id": "b507050c",
   "metadata": {},
   "outputs": [
    {
     "name": "stdout",
     "output_type": "stream",
     "text": [
      "🏈 Premier League Analytics - Exploration Started\n"
     ]
    }
   ],
   "source": [
    "import pandas as pd\n",
    "import duckdb\n",
    "import numpy as np\n",
    "import matplotlib.pyplot as plt\n",
    "import seaborn as sns\n",
    "from pathlib import Path\n",
    "import warnings\n",
    "warnings.filterwarnings('ignore')\n",
    "\n",
    "# Set up plotting and display options\n",
    "plt.style.use('default')\n",
    "sns.set_palette(\"husl\")\n",
    "pd.set_option('display.max_columns', None)\n",
    "pd.set_option('display.width', None)\n",
    "pd.set_option('display.max_rows', 50)\n",
    "\n",
    "print(\"🏈 Premier League Analytics - Exploration Started\")"
   ]
  },
  {
   "cell_type": "code",
   "execution_count": 21,
   "id": "53e3f257",
   "metadata": {},
   "outputs": [
    {
     "name": "stdout",
     "output_type": "stream",
     "text": [
      "✅ Connected to: ../data/premierleague_raw.duckdb\n",
      "📊 Found 33 stat tables\n",
      "\n",
      "📈 Table Row Counts:\n",
      "  opponent_defense            20 rows\n",
      "  opponent_goalshotcreation   20 rows\n",
      "  opponent_keepers            20 rows\n",
      "  opponent_keepersadv         20 rows\n",
      "  opponent_misc               20 rows\n",
      "  opponent_passing            20 rows\n",
      "  opponent_passingtypes       20 rows\n",
      "  opponent_playingtime        20 rows\n",
      "  opponent_possession         20 rows\n",
      "  opponent_shooting           20 rows\n",
      "  opponent_standard           20 rows\n",
      "  player_defense             370 rows\n",
      "  player_goalshotcreation    370 rows\n",
      "  player_keepers              21 rows\n",
      "  player_keepersadv           21 rows\n",
      "\n",
      "🏈 Season Status:\n",
      "  Current gameweek: 4.0\n",
      "  Completed fixtures: 30.0/380.0\n"
     ]
    }
   ],
   "source": [
    "# Connect to database\n",
    "db_path = \"../data/premierleague_raw.duckdb\"\n",
    "conn = duckdb.connect(db_path)\n",
    "print(f\"✅ Connected to: {db_path}\")\n",
    "\n",
    "# Get all tables and basic info\n",
    "tables_query = \"\"\"\n",
    "SELECT table_name \n",
    "FROM information_schema.tables \n",
    "WHERE table_schema='main' AND table_type='BASE TABLE'\n",
    "ORDER BY table_name\n",
    "\"\"\"\n",
    "\n",
    "all_tables = conn.execute(tables_query).fetchdf()\n",
    "stat_tables = [t for t in all_tables['table_name'] if any(t.startswith(p) for p in ['squad_', 'opponent_', 'player_'])]\n",
    "print(f\"📊 Found {len(stat_tables)} stat tables\")\n",
    "\n",
    "# Show table counts\n",
    "print(\"\\n📈 Table Row Counts:\")\n",
    "for table in sorted(stat_tables)[:15]:  # Show first 15\n",
    "    count = conn.execute(f\"SELECT COUNT(*) FROM {table}\").fetchone()[0]\n",
    "    print(f\"  {table:<25} {count:>4} rows\")\n",
    "\n",
    "# Current season status\n",
    "fixture_info = conn.execute(\"\"\"\n",
    "SELECT \n",
    "    MAX(current_through_gameweek) as current_gameweek,\n",
    "    COUNT(*) as total_fixtures,\n",
    "    SUM(CASE WHEN is_completed THEN 1 ELSE 0 END) as completed_fixtures\n",
    "FROM raw_fixtures\n",
    "\"\"\").fetchdf().iloc[0]\n",
    "\n",
    "print(f\"\\n🏈 Season Status:\")\n",
    "print(f\"  Current gameweek: {fixture_info['current_gameweek']}\")\n",
    "print(f\"  Completed fixtures: {fixture_info['completed_fixtures']}/{fixture_info['total_fixtures']}\")"
   ]
  }
 ],
 "metadata": {
  "jupytext": {
   "cell_metadata_filter": "-all",
   "main_language": "python",
   "notebook_metadata_filter": "-all"
  },
  "kernelspec": {
   "display_name": "Python 3",
   "language": "python",
   "name": "python3"
  },
  "language_info": {
   "codemirror_mode": {
    "name": "ipython",
    "version": 3
   },
   "file_extension": ".py",
   "mimetype": "text/x-python",
   "name": "python",
   "nbconvert_exporter": "python",
   "pygments_lexer": "ipython3",
   "version": "3.13.1"
  }
 },
 "nbformat": 4,
 "nbformat_minor": 5
}
