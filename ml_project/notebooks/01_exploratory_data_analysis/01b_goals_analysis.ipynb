{
 "cells": [
  {
   "cell_type": "markdown",
   "metadata": {},
   "source": [
    "# PART 1B: GOALS ANALYSIS\n",
    "\n",
    "## Objective\n",
    "Explore goal-scoring patterns using descriptive statistics, comparing historical season-end data (15 seasons at GW38) with current season progression (GW 3-7). Understand what goal totals define Top 4, mid-table, and relegation zones, and assess current teams' pacing.\n",
    "\n",
    "## Context\n",
    "- **Historical data:** 15 complete seasons (2010-2011 through 2024-2025) with GW38 end-of-season totals\n",
    "- **Current data:** 2025-2026 season with weekly tracking from GW 3-7 (is_current = true at GW7)\n",
    "- **Goal:** Learn what goal patterns separate winners from losers using descriptive statistics"
   ]
  },
  {
   "cell_type": "markdown",
   "metadata": {},
   "source": [
    "## Section 1: Setup and Data Loading"
   ]
  },
  {
   "cell_type": "code",
   "execution_count": null,
   "metadata": {
    "execution": {
     "iopub.execute_input": "2025-10-15T18:15:41.775559Z",
     "iopub.status.busy": "2025-10-15T18:15:41.775349Z",
     "iopub.status.idle": "2025-10-15T18:15:42.500626Z",
     "shell.execute_reply": "2025-10-15T18:15:42.500403Z"
    }
   },
   "outputs": [],
   "source": [
    "import duckdb\n",
    "import pandas as pd\n",
    "import numpy as np\n",
    "import matplotlib.pyplot as plt\n",
    "import seaborn as sns\n",
    "from pathlib import Path\n",
    "from datetime import datetime\n",
    "import warnings\n",
    "warnings.filterwarnings('ignore')\n",
    "\n",
    "# Display settings\n",
    "pd.set_option('display.max_columns', None)\n",
    "pd.set_option('display.max_rows', 100)\n",
    "pd.set_option('display.width', None)\n",
    "\n",
    "# Plotting style\n",
    "sns.set_style(\"whitegrid\")\n",
    "plt.rcParams['figure.figsize'] = (12, 6)\n",
    "\n",
    "# Database connection\n",
    "db_path = \"../../../data/premierleague_analytics.duckdb\"\n",
    "conn = duckdb.connect(db_path, read_only=True)\n",
    "\n",
    "print(\"=\" * 80)\n",
    "print(\"PART 1B: GOALS ANALYSIS\")\n",
    "print(\"=\" * 80)\n",
    "print(f\"📊 Database: {db_path}\")\n",
    "print(f\"⏰ Analysis started: {datetime.now().strftime('%Y-%m-%d %H:%M:%S')}\")\n",
    "print()"
   ]
  },
  {
   "cell_type": "markdown",
   "metadata": {},
   "source": [
    "## Section 2: Load Historical Data (GW38)"
   ]
  },
  {
   "cell_type": "code",
   "execution_count": null,
   "metadata": {
    "execution": {
     "iopub.execute_input": "2025-10-15T18:15:42.513677Z",
     "iopub.status.busy": "2025-10-15T18:15:42.513534Z",
     "iopub.status.idle": "2025-10-15T18:15:42.519665Z",
     "shell.execute_reply": "2025-10-15T18:15:42.519473Z"
    }
   },
   "outputs": [],
   "source": [
    "print(\"📚 Loading Historical Data (15 seasons, GW38 end-of-season totals)...\")\n",
    "\n",
    "# Load historical season-end data\n",
    "historical = conn.execute(\"\"\"\n",
    "    SELECT\n",
    "        season,\n",
    "        squad_name,\n",
    "        gameweek,\n",
    "        matches_played,\n",
    "        goals,\n",
    "        goals_against,\n",
    "        (goals - goals_against) as goal_difference,\n",
    "        wins,\n",
    "        draws,\n",
    "        losses,\n",
    "        (wins * 3 + draws) as points\n",
    "    FROM analytics_squads\n",
    "    WHERE gameweek = 38\n",
    "    ORDER BY season DESC, (wins * 3 + draws) DESC\n",
    "\"\"\").fetchdf()\n",
    "\n",
    "print(f\"✅ Loaded {len(historical)} historical squad records\")\n",
    "print(f\"📅 Seasons covered: {historical['season'].nunique()} seasons\")\n",
    "print(f\"   Range: {historical['season'].min()} to {historical['season'].max()}\")\n",
    "print(f\"🏆 Squads represented: {historical['squad_name'].nunique()} unique squads\")\n",
    "print()\n",
    "\n",
    "# Display sample\n",
    "print(\"Sample historical records:\")\n",
    "print(historical.head(3))\n",
    "print()"
   ]
  },
  {
   "cell_type": "markdown",
   "metadata": {},
   "source": [
    "## Section 3: Load Current Season Data (GW 3-7)"
   ]
  },
  {
   "cell_type": "code",
   "execution_count": null,
   "metadata": {
    "execution": {
     "iopub.execute_input": "2025-10-15T18:15:42.520644Z",
     "iopub.status.busy": "2025-10-15T18:15:42.520589Z",
     "iopub.status.idle": "2025-10-15T18:15:42.524424Z",
     "shell.execute_reply": "2025-10-15T18:15:42.524255Z"
    }
   },
   "outputs": [],
   "source": [
    "print(\"📊 Loading Current Season Data (2025-2026, GW 3-7)...\")\n",
    "\n",
    "# Load current season progression\n",
    "current_all = conn.execute(\"\"\"\n",
    "    SELECT\n",
    "        season,\n",
    "        squad_name,\n",
    "        gameweek,\n",
    "        matches_played,\n",
    "        goals,\n",
    "        goals_against,\n",
    "        (goals - goals_against) as goal_difference,\n",
    "        wins,\n",
    "        draws,\n",
    "        losses,\n",
    "        (wins * 3 + draws) as points\n",
    "    FROM analytics_squads\n",
    "    WHERE season = '2025-2026'\n",
    "    ORDER BY gameweek, squad_name\n",
    "\"\"\").fetchdf()\n",
    "\n",
    "# Get current snapshot (GW7, is_current = true)\n",
    "current = conn.execute(\"\"\"\n",
    "    SELECT\n",
    "        season,\n",
    "        squad_name,\n",
    "        gameweek,\n",
    "        matches_played,\n",
    "        goals,\n",
    "        goals_against,\n",
    "        (goals - goals_against) as goal_difference,\n",
    "        wins,\n",
    "        draws,\n",
    "        losses,\n",
    "        (wins * 3 + draws) as points\n",
    "    FROM analytics_squads\n",
    "    WHERE is_current = true\n",
    "    ORDER BY (wins * 3 + draws) DESC, (goals - goals_against) DESC\n",
    "\"\"\").fetchdf()\n",
    "\n",
    "print(f\"✅ Current season records: {len(current_all)} total records\")\n",
    "print(f\"   Gameweeks: GW{current_all['gameweek'].min()} to GW{current_all['gameweek'].max()}\")\n",
    "print(f\"✅ Current snapshot (GW7): {len(current)} squads\")\n",
    "print()\n",
    "\n",
    "# Display current leaders\n",
    "print(\"Current season leaders (GW7):\")\n",
    "print(current[['squad_name', 'matches_played', 'goals', 'goals_against', 'goal_difference', 'points']].head(5))\n",
    "print()"
   ]
  },
  {
   "cell_type": "markdown",
   "metadata": {},
   "source": [
    "## Section 4: Historical Goals Analysis"
   ]
  },
  {
   "cell_type": "markdown",
   "metadata": {},
   "source": [
    "### 4.1 Descriptive Statistics for Goals Scored"
   ]
  },
  {
   "cell_type": "code",
   "execution_count": null,
   "metadata": {
    "execution": {
     "iopub.execute_input": "2025-10-15T18:15:42.525391Z",
     "iopub.status.busy": "2025-10-15T18:15:42.525337Z",
     "iopub.status.idle": "2025-10-15T18:15:42.529189Z",
     "shell.execute_reply": "2025-10-15T18:15:42.529021Z"
    }
   },
   "outputs": [],
   "source": [
    "print(\"=\" * 80)\n",
    "print(\"SECTION 4: HISTORICAL GOALS ANALYSIS (GW38)\")\n",
    "print(\"=\" * 80)\n",
    "print()\n",
    "\n",
    "# Calculate descriptive statistics\n",
    "goals_stats = historical['goals'].describe()\n",
    "\n",
    "print(\"📊 DESCRIPTIVE STATISTICS - GOALS SCORED (Full Season)\")\n",
    "print(\"-\" * 80)\n",
    "print(f\"Count:        {goals_stats['count']:.0f} seasons\")\n",
    "print(f\"Mean:         {goals_stats['mean']:.2f} goals\")\n",
    "print(f\"Median:       {goals_stats['50%']:.2f} goals\")\n",
    "print(f\"Std Dev:      {goals_stats['std']:.2f} goals\")\n",
    "print(f\"Min:          {goals_stats['min']:.0f} goals\")\n",
    "print(f\"25th %ile:    {goals_stats['25%']:.2f} goals\")\n",
    "print(f\"75th %ile:    {goals_stats['75%']:.2f} goals\")\n",
    "print(f\"Max:          {goals_stats['max']:.0f} goals\")\n",
    "print(f\"Range:        {goals_stats['max'] - goals_stats['min']:.0f} goals\")\n",
    "print()\n",
    "\n",
    "# Additional statistics\n",
    "mode_goals = historical['goals'].mode()\n",
    "variance = historical['goals'].var()\n",
    "\n",
    "print(f\"Mode:         {mode_goals.iloc[0] if len(mode_goals) > 0 else 'N/A'} goals\")\n",
    "print(f\"Variance:     {variance:.2f}\")\n",
    "print()"
   ]
  },
  {
   "cell_type": "markdown",
   "metadata": {},
   "source": [
    "### 4.2 Goals Distribution Visualization"
   ]
  },
  {
   "cell_type": "code",
   "execution_count": null,
   "metadata": {
    "execution": {
     "iopub.execute_input": "2025-10-15T18:15:42.530148Z",
     "iopub.status.busy": "2025-10-15T18:15:42.530099Z",
     "iopub.status.idle": "2025-10-15T18:15:42.744834Z",
     "shell.execute_reply": "2025-10-15T18:15:42.744614Z"
    }
   },
   "outputs": [],
   "source": [
    "# Create output directory\n",
    "output_dir = Path(\"../../outputs/02_goals_analysis\")\n",
    "output_dir.mkdir(parents=True, exist_ok=True)\n",
    "\n",
    "# Create histogram of goals scored\n",
    "fig, axes = plt.subplots(1, 2, figsize=(14, 5))\n",
    "\n",
    "# Histogram\n",
    "axes[0].hist(historical['goals'], bins=20, edgecolor='black', alpha=0.7, color='steelblue')\n",
    "axes[0].axvline(historical['goals'].mean(), color='red', linestyle='--', linewidth=2, label=f'Mean: {historical[\"goals\"].mean():.1f}')\n",
    "axes[0].axvline(historical['goals'].median(), color='green', linestyle='--', linewidth=2, label=f'Median: {historical[\"goals\"].median():.1f}')\n",
    "axes[0].set_xlabel('Goals Scored (Full Season)', fontsize=12)\n",
    "axes[0].set_ylabel('Frequency', fontsize=12)\n",
    "axes[0].set_title('Distribution of Goals Scored (Historical GW38)', fontsize=14, fontweight='bold')\n",
    "axes[0].legend()\n",
    "axes[0].grid(True, alpha=0.3)\n",
    "\n",
    "# Box plot\n",
    "axes[1].boxplot(historical['goals'], vert=True, patch_artist=True,\n",
    "                boxprops=dict(facecolor='lightblue', alpha=0.7),\n",
    "                medianprops=dict(color='red', linewidth=2),\n",
    "                whiskerprops=dict(linewidth=1.5),\n",
    "                capprops=dict(linewidth=1.5))\n",
    "axes[1].set_ylabel('Goals Scored (Full Season)', fontsize=12)\n",
    "axes[1].set_title('Box Plot: Goals Scored Distribution', fontsize=14, fontweight='bold')\n",
    "axes[1].grid(True, alpha=0.3, axis='y')\n",
    "axes[1].set_xticklabels(['All Teams'])\n",
    "\n",
    "plt.tight_layout()\n",
    "plt.savefig(output_dir / \"historical_goals_distribution.png\", dpi=300, bbox_inches='tight')\n",
    "print(\"✅ Saved: historical_goals_distribution.png\")\n",
    "plt.show()"
   ]
  },
  {
   "cell_type": "markdown",
   "metadata": {},
   "source": [
    "### 4.3 Check Distribution Shape"
   ]
  },
  {
   "cell_type": "code",
   "execution_count": null,
   "metadata": {
    "execution": {
     "iopub.execute_input": "2025-10-15T18:15:42.745897Z",
     "iopub.status.busy": "2025-10-15T18:15:42.745830Z",
     "iopub.status.idle": "2025-10-15T18:15:42.748404Z",
     "shell.execute_reply": "2025-10-15T18:15:42.748251Z"
    }
   },
   "outputs": [],
   "source": [
    "# Check if distribution is normal or skewed\n",
    "from scipy import stats\n",
    "\n",
    "skewness = stats.skew(historical['goals'])\n",
    "kurtosis = stats.kurtosis(historical['goals'])\n",
    "\n",
    "print(\"📈 DISTRIBUTION SHAPE ANALYSIS\")\n",
    "print(\"-\" * 80)\n",
    "print(f\"Skewness:     {skewness:.3f}\")\n",
    "if abs(skewness) < 0.5:\n",
    "    skew_interp = \"Approximately symmetric (normal-like)\"\n",
    "elif skewness > 0:\n",
    "    skew_interp = \"Right-skewed (tail on high end)\"\n",
    "else:\n",
    "    skew_interp = \"Left-skewed (tail on low end)\"\n",
    "print(f\"              {skew_interp}\")\n",
    "print()\n",
    "\n",
    "print(f\"Kurtosis:     {kurtosis:.3f}\")\n",
    "if abs(kurtosis) < 0.5:\n",
    "    kurt_interp = \"Mesokurtic (normal-like tails)\"\n",
    "elif kurtosis > 0:\n",
    "    kurt_interp = \"Leptokurtic (heavy tails, more outliers)\"\n",
    "else:\n",
    "    kurt_interp = \"Platykurtic (light tails, fewer outliers)\"\n",
    "print(f\"              {kurt_interp}\")\n",
    "print()"
   ]
  },
  {
   "cell_type": "markdown",
   "metadata": {},
   "source": [
    "## Section 5: Goals by Final Position"
   ]
  },
  {
   "cell_type": "markdown",
   "metadata": {},
   "source": [
    "### 5.1 Create Position Tiers"
   ]
  },
  {
   "cell_type": "code",
   "execution_count": null,
   "metadata": {
    "execution": {
     "iopub.execute_input": "2025-10-15T18:15:42.749346Z",
     "iopub.status.busy": "2025-10-15T18:15:42.749295Z",
     "iopub.status.idle": "2025-10-15T18:15:42.757593Z",
     "shell.execute_reply": "2025-10-15T18:15:42.757399Z"
    }
   },
   "outputs": [],
   "source": [
    "print(\"=\" * 80)\n",
    "print(\"SECTION 5: GOALS BY FINAL POSITION TIERS\")\n",
    "print(\"=\" * 80)\n",
    "print()\n",
    "\n",
    "# Calculate final position within each season\n",
    "historical['final_position'] = historical.groupby('season')['points'].rank(method='min', ascending=False)\n",
    "historical['final_position'] = historical['final_position'].astype(int)\n",
    "\n",
    "# Assign tiers\n",
    "def get_tier(position):\n",
    "    if position <= 4:\n",
    "        return 'Top 4'\n",
    "    elif position <= 10:\n",
    "        return 'Upper Mid-Table (5-10)'\n",
    "    elif position <= 17:\n",
    "        return 'Lower Mid-Table (11-17)'\n",
    "    else:\n",
    "        return 'Relegation Zone (18-20)'\n",
    "\n",
    "historical['tier'] = historical['final_position'].apply(get_tier)\n",
    "\n",
    "# Calculate stats by tier\n",
    "tier_stats = historical.groupby('tier')['goals'].describe()\n",
    "tier_stats = tier_stats.reindex(['Top 4', 'Upper Mid-Table (5-10)', 'Lower Mid-Table (11-17)', 'Relegation Zone (18-20)'])\n",
    "\n",
    "print(\"📊 GOALS SCORED BY FINAL POSITION TIER\")\n",
    "print(\"-\" * 80)\n",
    "print(tier_stats)\n",
    "print()"
   ]
  },
  {
   "cell_type": "markdown",
   "metadata": {},
   "source": [
    "### 5.2 Visualize Goals by Tier"
   ]
  },
  {
   "cell_type": "code",
   "execution_count": null,
   "metadata": {
    "execution": {
     "iopub.execute_input": "2025-10-15T18:15:42.758609Z",
     "iopub.status.busy": "2025-10-15T18:15:42.758542Z",
     "iopub.status.idle": "2025-10-15T18:15:42.905183Z",
     "shell.execute_reply": "2025-10-15T18:15:42.904955Z"
    }
   },
   "outputs": [],
   "source": [
    "# Box plot by tier\n",
    "fig, ax = plt.subplots(figsize=(12, 6))\n",
    "\n",
    "tier_order = ['Top 4', 'Upper Mid-Table (5-10)', 'Lower Mid-Table (11-17)', 'Relegation Zone (18-20)']\n",
    "colors = ['#2ecc71', '#3498db', '#f39c12', '#e74c3c']\n",
    "\n",
    "sns.boxplot(data=historical, x='tier', y='goals', order=tier_order, palette=colors, ax=ax)\n",
    "ax.set_xlabel('Final Position Tier', fontsize=12, fontweight='bold')\n",
    "ax.set_ylabel('Goals Scored (Full Season)', fontsize=12, fontweight='bold')\n",
    "ax.set_title('Goals Scored Distribution by Final Position Tier (Historical)', fontsize=14, fontweight='bold')\n",
    "ax.grid(True, alpha=0.3, axis='y')\n",
    "\n",
    "# Rotate x labels\n",
    "plt.xticks(rotation=15, ha='right')\n",
    "\n",
    "plt.tight_layout()\n",
    "plt.savefig(output_dir / \"goals_by_position_tier.png\", dpi=300, bbox_inches='tight')\n",
    "print(\"✅ Saved: goals_by_position_tier.png\")\n",
    "plt.show()"
   ]
  },
  {
   "cell_type": "markdown",
   "metadata": {},
   "source": [
    "### 5.3 Identify Thresholds"
   ]
  },
  {
   "cell_type": "code",
   "execution_count": null,
   "metadata": {
    "execution": {
     "iopub.execute_input": "2025-10-15T18:15:42.906238Z",
     "iopub.status.busy": "2025-10-15T18:15:42.906179Z",
     "iopub.status.idle": "2025-10-15T18:15:42.909320Z",
     "shell.execute_reply": "2025-10-15T18:15:42.909139Z"
    }
   },
   "outputs": [],
   "source": [
    "print(\"🎯 GOAL THRESHOLDS BY TIER\")\n",
    "print(\"-\" * 80)\n",
    "\n",
    "# Calculate key thresholds\n",
    "top4_min = historical[historical['tier'] == 'Top 4']['goals'].min()\n",
    "top4_avg = historical[historical['tier'] == 'Top 4']['goals'].mean()\n",
    "top4_median = historical[historical['tier'] == 'Top 4']['goals'].median()\n",
    "\n",
    "relegation_max = historical[historical['tier'] == 'Relegation Zone (18-20)']['goals'].max()\n",
    "relegation_avg = historical[historical['tier'] == 'Relegation Zone (18-20)']['goals'].mean()\n",
    "relegation_median = historical[historical['tier'] == 'Relegation Zone (18-20)']['goals'].median()\n",
    "\n",
    "print(f\"Top 4 Teams:\")\n",
    "print(f\"  Minimum:  {top4_min:.0f} goals (weakest Top 4 team ever)\")\n",
    "print(f\"  Median:   {top4_median:.0f} goals (typical Top 4)\")\n",
    "print(f\"  Average:  {top4_avg:.1f} goals\")\n",
    "print()\n",
    "\n",
    "print(f\"Relegation Zone Teams:\")\n",
    "print(f\"  Maximum:  {relegation_max:.0f} goals (best relegated team)\")\n",
    "print(f\"  Median:   {relegation_median:.0f} goals (typical relegated)\")\n",
    "print(f\"  Average:  {relegation_avg:.1f} goals\")\n",
    "print()\n",
    "\n",
    "print(f\"💡 Key Insight:\")\n",
    "print(f\"   To be safe for Top 4: Need {top4_median:.0f}+ goals\")\n",
    "print(f\"   To avoid relegation: Need {relegation_max:.0f}+ goals\")\n",
    "print()"
   ]
  },
  {
   "cell_type": "markdown",
   "metadata": {},
   "source": [
    "## Section 6: Current Season Analysis"
   ]
  },
  {
   "cell_type": "markdown",
   "metadata": {},
   "source": [
    "### 6.1 Current Goals Leaders (GW7)"
   ]
  },
  {
   "cell_type": "code",
   "execution_count": null,
   "metadata": {
    "execution": {
     "iopub.execute_input": "2025-10-15T18:15:42.910299Z",
     "iopub.status.busy": "2025-10-15T18:15:42.910229Z",
     "iopub.status.idle": "2025-10-15T18:15:42.913277Z",
     "shell.execute_reply": "2025-10-15T18:15:42.913080Z"
    }
   },
   "outputs": [],
   "source": [
    "print(\"=\" * 80)\n",
    "print(\"SECTION 6: CURRENT SEASON GOALS ANALYSIS (GW7)\")\n",
    "print(\"=\" * 80)\n",
    "print()\n",
    "\n",
    "# Calculate goals per game\n",
    "current['goals_per_game'] = current['goals'] / current['matches_played']\n",
    "current['projected_season_goals'] = current['goals_per_game'] * 38\n",
    "\n",
    "# Sort by goals\n",
    "current_sorted = current.sort_values('goals', ascending=False).copy()\n",
    "\n",
    "print(\"🏆 TOP 10 GOAL SCORERS (Current Season, GW7)\")\n",
    "print(\"-\" * 80)\n",
    "print(f\"{'Rank':<6} {'Squad':<20} {'Goals':<8} {'Matches':<9} {'Goals/Game':<12} {'Projected'}\")\n",
    "print(\"-\" * 80)\n",
    "\n",
    "for idx, row in current_sorted.head(10).iterrows():\n",
    "    rank = current_sorted.index.get_loc(idx) + 1\n",
    "    print(f\"{rank:<6} {row['squad_name']:<20} {row['goals']:<8.0f} {row['matches_played']:<9.0f} {row['goals_per_game']:<12.2f} {row['projected_season_goals']:.1f}\")\n",
    "\n",
    "print()"
   ]
  },
  {
   "cell_type": "markdown",
   "metadata": {},
   "source": [
    "### 6.2 Visualize Current Goals"
   ]
  },
  {
   "cell_type": "code",
   "execution_count": null,
   "metadata": {
    "execution": {
     "iopub.execute_input": "2025-10-15T18:15:42.914178Z",
     "iopub.status.busy": "2025-10-15T18:15:42.914120Z",
     "iopub.status.idle": "2025-10-15T18:15:43.114371Z",
     "shell.execute_reply": "2025-10-15T18:15:43.114153Z"
    }
   },
   "outputs": [],
   "source": [
    "# Bar chart of current goals\n",
    "fig, ax = plt.subplots(figsize=(14, 6))\n",
    "\n",
    "current_sorted_plot = current_sorted.sort_values('goals', ascending=True)\n",
    "colors_bar = ['#2ecc71' if g >= top4_median else '#f39c12' if g >= relegation_max else '#e74c3c' \n",
    "              for g in current_sorted_plot['goals']]\n",
    "\n",
    "ax.barh(current_sorted_plot['squad_name'], current_sorted_plot['goals'], color=colors_bar, alpha=0.8)\n",
    "ax.axvline(top4_median, color='green', linestyle='--', linewidth=2, label=f'Top 4 threshold ({top4_median:.0f} goals)')\n",
    "ax.set_xlabel('Goals Scored (GW7)', fontsize=12, fontweight='bold')\n",
    "ax.set_ylabel('Squad', fontsize=12, fontweight='bold')\n",
    "ax.set_title('Current Season Goals Scored (GW7) - All Teams', fontsize=14, fontweight='bold')\n",
    "ax.legend()\n",
    "ax.grid(True, alpha=0.3, axis='x')\n",
    "\n",
    "plt.tight_layout()\n",
    "plt.savefig(output_dir / \"current_goals_leaders.png\", dpi=300, bbox_inches='tight')\n",
    "print(\"✅ Saved: current_goals_leaders.png\")\n",
    "plt.show()"
   ]
  },
  {
   "cell_type": "markdown",
   "metadata": {},
   "source": [
    "### 6.3 Project to Season End"
   ]
  },
  {
   "cell_type": "code",
   "execution_count": null,
   "metadata": {
    "execution": {
     "iopub.execute_input": "2025-10-15T18:15:43.115452Z",
     "iopub.status.busy": "2025-10-15T18:15:43.115393Z",
     "iopub.status.idle": "2025-10-15T18:15:43.118244Z",
     "shell.execute_reply": "2025-10-15T18:15:43.118036Z"
    }
   },
   "outputs": [],
   "source": [
    "print(\"📈 SEASON PROJECTIONS (Based on GW7 pace)\")\n",
    "print(\"-\" * 80)\n",
    "\n",
    "# Add tier based on projected goals\n",
    "def get_projected_tier(proj_goals):\n",
    "    if proj_goals >= top4_median:\n",
    "        return 'On Top 4 Pace'\n",
    "    elif proj_goals >= relegation_max:\n",
    "        return 'Mid-Table Pace'\n",
    "    else:\n",
    "        return 'Relegation Pace'\n",
    "\n",
    "current_sorted['projected_tier'] = current_sorted['projected_season_goals'].apply(get_projected_tier)\n",
    "\n",
    "# Count by projected tier\n",
    "tier_counts = current_sorted['projected_tier'].value_counts()\n",
    "\n",
    "print(f\"Teams on Top 4 pace:        {tier_counts.get('On Top 4 Pace', 0)}\")\n",
    "print(f\"Teams on Mid-Table pace:    {tier_counts.get('Mid-Table Pace', 0)}\")\n",
    "print(f\"Teams on Relegation pace:   {tier_counts.get('Relegation Pace', 0)}\")\n",
    "print()\n",
    "\n",
    "# Show teams by projected tier\n",
    "for tier in ['On Top 4 Pace', 'Mid-Table Pace', 'Relegation Pace']:\n",
    "    teams = current_sorted[current_sorted['projected_tier'] == tier]['squad_name'].tolist()\n",
    "    if teams:\n",
    "        print(f\"{tier}: {', '.join(teams)}\")\n",
    "print()"
   ]
  },
  {
   "cell_type": "markdown",
   "metadata": {},
   "source": [
    "## Section 7: Goals Conceded Analysis"
   ]
  },
  {
   "cell_type": "markdown",
   "metadata": {},
   "source": [
    "### 7.1 Historical Goals Against"
   ]
  },
  {
   "cell_type": "code",
   "execution_count": null,
   "metadata": {
    "execution": {
     "iopub.execute_input": "2025-10-15T18:15:43.119251Z",
     "iopub.status.busy": "2025-10-15T18:15:43.119192Z",
     "iopub.status.idle": "2025-10-15T18:15:43.125480Z",
     "shell.execute_reply": "2025-10-15T18:15:43.125260Z"
    }
   },
   "outputs": [],
   "source": [
    "print(\"=\" * 80)\n",
    "print(\"SECTION 7: GOALS CONCEDED ANALYSIS\")\n",
    "print(\"=\" * 80)\n",
    "print()\n",
    "\n",
    "# Descriptive stats for goals against\n",
    "goals_against_stats = historical['goals_against'].describe()\n",
    "\n",
    "print(\"📊 DESCRIPTIVE STATISTICS - GOALS CONCEDED (Historical GW38)\")\n",
    "print(\"-\" * 80)\n",
    "print(f\"Mean:         {goals_against_stats['mean']:.2f} goals\")\n",
    "print(f\"Median:       {goals_against_stats['50%']:.2f} goals\")\n",
    "print(f\"Std Dev:      {goals_against_stats['std']:.2f} goals\")\n",
    "print(f\"Min:          {goals_against_stats['min']:.0f} goals (best defense)\")\n",
    "print(f\"Max:          {goals_against_stats['max']:.0f} goals (worst defense)\")\n",
    "print()\n",
    "\n",
    "# Goals against by tier\n",
    "tier_defense = historical.groupby('tier')['goals_against'].describe()\n",
    "tier_defense = tier_defense.reindex(['Top 4', 'Upper Mid-Table (5-10)', 'Lower Mid-Table (11-17)', 'Relegation Zone (18-20)'])\n",
    "\n",
    "print(\"🛡️  GOALS CONCEDED BY TIER\")\n",
    "print(\"-\" * 80)\n",
    "print(tier_defense[['mean', '50%', 'min', 'max']])\n",
    "print()\n",
    "\n",
    "# Defensive thresholds\n",
    "top4_defense_max = historical[historical['tier'] == 'Top 4']['goals_against'].max()\n",
    "top4_defense_median = historical[historical['tier'] == 'Top 4']['goals_against'].median()\n",
    "\n",
    "print(f\"🎯 Top 4 Defensive Threshold:\")\n",
    "print(f\"   Median conceded: {top4_defense_median:.0f} goals\")\n",
    "print(f\"   Maximum conceded: {top4_defense_max:.0f} goals (worst Top 4 defense)\")\n",
    "print()"
   ]
  },
  {
   "cell_type": "markdown",
   "metadata": {},
   "source": [
    "### 7.2 Current Season Defense (GW7)"
   ]
  },
  {
   "cell_type": "code",
   "execution_count": null,
   "metadata": {
    "execution": {
     "iopub.execute_input": "2025-10-15T18:15:43.126450Z",
     "iopub.status.busy": "2025-10-15T18:15:43.126398Z",
     "iopub.status.idle": "2025-10-15T18:15:43.129166Z",
     "shell.execute_reply": "2025-10-15T18:15:43.128988Z"
    }
   },
   "outputs": [],
   "source": [
    "# Calculate current defensive stats\n",
    "current_sorted_defense = current.sort_values('goals_against').copy()\n",
    "\n",
    "print(\"🛡️  BEST DEFENSES (Current Season, GW7)\")\n",
    "print(\"-\" * 80)\n",
    "print(f\"{'Rank':<6} {'Squad':<20} {'Conceded':<10} {'Goals/Game':<12} {'Projected'}\")\n",
    "print(\"-\" * 80)\n",
    "\n",
    "current_sorted_defense['goals_against_per_game'] = current_sorted_defense['goals_against'] / current_sorted_defense['matches_played']\n",
    "current_sorted_defense['projected_conceded'] = current_sorted_defense['goals_against_per_game'] * 38\n",
    "\n",
    "for idx, row in current_sorted_defense.head(10).iterrows():\n",
    "    rank = current_sorted_defense.index.get_loc(idx) + 1\n",
    "    print(f\"{rank:<6} {row['squad_name']:<20} {row['goals_against']:<10.0f} {row['goals_against_per_game']:<12.2f} {row['projected_conceded']:.1f}\")\n",
    "\n",
    "print()"
   ]
  },
  {
   "cell_type": "markdown",
   "metadata": {},
   "source": [
    "## Section 8: Goal Difference Analysis"
   ]
  },
  {
   "cell_type": "markdown",
   "metadata": {},
   "source": [
    "### 8.1 Historical Goal Difference"
   ]
  },
  {
   "cell_type": "code",
   "execution_count": null,
   "metadata": {
    "execution": {
     "iopub.execute_input": "2025-10-15T18:15:43.130123Z",
     "iopub.status.busy": "2025-10-15T18:15:43.130065Z",
     "iopub.status.idle": "2025-10-15T18:15:43.344616Z",
     "shell.execute_reply": "2025-10-15T18:15:43.344386Z"
    }
   },
   "outputs": [],
   "source": [
    "print(\"=\" * 80)\n",
    "print(\"SECTION 8: GOAL DIFFERENCE ANALYSIS\")\n",
    "print(\"=\" * 80)\n",
    "print()\n",
    "\n",
    "# Goal difference by tier\n",
    "tier_gd = historical.groupby('tier')['goal_difference'].describe()\n",
    "tier_gd = tier_gd.reindex(['Top 4', 'Upper Mid-Table (5-10)', 'Lower Mid-Table (11-17)', 'Relegation Zone (18-20)'])\n",
    "\n",
    "print(\"⚖️  GOAL DIFFERENCE BY TIER (Historical)\")\n",
    "print(\"-\" * 80)\n",
    "print(tier_gd[['mean', '50%', 'min', 'max']])\n",
    "print()\n",
    "\n",
    "# Scatter plot: Goals Scored vs Goals Conceded\n",
    "fig, ax = plt.subplots(figsize=(10, 8))\n",
    "\n",
    "tier_colors = {'Top 4': '#2ecc71', 'Upper Mid-Table (5-10)': '#3498db', \n",
    "               'Lower Mid-Table (11-17)': '#f39c12', 'Relegation Zone (18-20)': '#e74c3c'}\n",
    "\n",
    "for tier in tier_order:\n",
    "    data = historical[historical['tier'] == tier]\n",
    "    ax.scatter(data['goals'], data['goals_against'], \n",
    "              label=tier, alpha=0.6, s=80, color=tier_colors[tier])\n",
    "\n",
    "# Add diagonal line (GD = 0)\n",
    "ax.plot([20, 100], [20, 100], 'k--', alpha=0.3, linewidth=1, label='GD = 0')\n",
    "\n",
    "ax.set_xlabel('Goals Scored', fontsize=12, fontweight='bold')\n",
    "ax.set_ylabel('Goals Conceded', fontsize=12, fontweight='bold')\n",
    "ax.set_title('Goals Scored vs Goals Conceded (Historical) - Colored by Final Position', fontsize=14, fontweight='bold')\n",
    "ax.legend()\n",
    "ax.grid(True, alpha=0.3)\n",
    "\n",
    "plt.tight_layout()\n",
    "plt.savefig(output_dir / \"goals_scatter_historical.png\", dpi=300, bbox_inches='tight')\n",
    "print(\"✅ Saved: goals_scatter_historical.png\")\n",
    "plt.show()"
   ]
  },
  {
   "cell_type": "markdown",
   "metadata": {},
   "source": [
    "### 8.2 Current Season Goal Difference"
   ]
  },
  {
   "cell_type": "code",
   "execution_count": null,
   "metadata": {
    "execution": {
     "iopub.execute_input": "2025-10-15T18:15:43.345681Z",
     "iopub.status.busy": "2025-10-15T18:15:43.345619Z",
     "iopub.status.idle": "2025-10-15T18:15:43.348269Z",
     "shell.execute_reply": "2025-10-15T18:15:43.348075Z"
    }
   },
   "outputs": [],
   "source": [
    "# Current GD leaders\n",
    "current_gd = current.sort_values('goal_difference', ascending=False).copy()\n",
    "\n",
    "print(\"⚖️  GOAL DIFFERENCE LEADERS (Current Season, GW7)\")\n",
    "print(\"-\" * 80)\n",
    "print(f\"{'Rank':<6} {'Squad':<20} {'GF':<6} {'GA':<6} {'GD':<6} {'Points'}\")\n",
    "print(\"-\" * 80)\n",
    "\n",
    "for idx, row in current_gd.head(10).iterrows():\n",
    "    rank = current_gd.index.get_loc(idx) + 1\n",
    "    print(f\"{rank:<6} {row['squad_name']:<20} {row['goals']:<6.0f} {row['goals_against']:<6.0f} {row['goal_difference']:<6.0f} {row['points']:.0f}\")\n",
    "\n",
    "print()"
   ]
  },
  {
   "cell_type": "markdown",
   "metadata": {},
   "source": [
    "## Section 9: Key Findings Summary"
   ]
  },
  {
   "cell_type": "code",
   "execution_count": null,
   "metadata": {
    "execution": {
     "iopub.execute_input": "2025-10-15T18:15:43.349262Z",
     "iopub.status.busy": "2025-10-15T18:15:43.349208Z",
     "iopub.status.idle": "2025-10-15T18:15:43.353610Z",
     "shell.execute_reply": "2025-10-15T18:15:43.353416Z"
    }
   },
   "outputs": [],
   "source": [
    "print(\"=\" * 80)\n",
    "print(\"SECTION 9: KEY FINDINGS & INSIGHTS\")\n",
    "print(\"=\" * 80)\n",
    "print()\n",
    "\n",
    "# Create summary report\n",
    "summary_path = output_dir / \"goals_analysis_summary.txt\"\n",
    "with open(summary_path, 'w') as f:\n",
    "    f.write(\"=\" * 80 + \"\\n\")\n",
    "    f.write(\"GOALS ANALYSIS SUMMARY - PART 1B\\n\")\n",
    "    f.write(f\"Generated: {datetime.now().strftime('%Y-%m-%d %H:%M:%S')}\\n\")\n",
    "    f.write(\"=\" * 80 + \"\\n\\n\")\n",
    "    \n",
    "    f.write(\"HISTORICAL PATTERNS (15 seasons, GW38 totals)\\n\")\n",
    "    f.write(\"-\" * 80 + \"\\n\")\n",
    "    f.write(f\"Average goals scored: {historical['goals'].mean():.1f}\\n\")\n",
    "    f.write(f\"Top 4 typically score: {top4_median:.0f}+ goals\\n\")\n",
    "    f.write(f\"Relegated teams score: <{relegation_max:.0f} goals\\n\")\n",
    "    f.write(f\"Best defense (Top 4): <{top4_defense_median:.0f} goals conceded\\n\\n\")\n",
    "    \n",
    "    f.write(\"CURRENT SEASON (GW7)\\n\")\n",
    "    f.write(\"-\" * 80 + \"\\n\")\n",
    "    f.write(f\"Top scorer: {current_sorted.iloc[0]['squad_name']} ({current_sorted.iloc[0]['goals']:.0f} goals)\\n\")\n",
    "    f.write(f\"Best defense: {current_sorted_defense.iloc[0]['squad_name']} ({current_sorted_defense.iloc[0]['goals_against']:.0f} conceded)\\n\")\n",
    "    f.write(f\"Teams on Top 4 pace: {tier_counts.get('On Top 4 Pace', 0)}\\n\")\n",
    "    f.write(f\"Teams on relegation pace: {tier_counts.get('Relegation Pace', 0)}\\n\\n\")\n",
    "    \n",
    "    f.write(\"KEY INSIGHTS\\n\")\n",
    "    f.write(\"-\" * 80 + \"\\n\")\n",
    "    f.write(f\"1. Goals scored is highly predictive of final position\\n\")\n",
    "    f.write(f\"2. Top 4 teams average {historical[historical['tier']=='Top 4']['goals'].mean():.0f} goals\\n\")\n",
    "    f.write(f\"3. Defense matters: Top 4 concede {top4_defense_median:.0f} or fewer goals\\n\")\n",
    "    f.write(f\"4. Goal difference strongly correlates with final position\\n\")\n",
    "\n",
    "print(\"✅ Summary report saved to:\", summary_path)\n",
    "print()\n",
    "\n",
    "# Close connection\n",
    "conn.close()\n",
    "\n",
    "print(\"=\" * 80)\n",
    "print(\"✅ PART 1B: GOALS ANALYSIS COMPLETE\")\n",
    "print(\"=\" * 80)\n",
    "print(f\"\\n📂 All outputs saved to: {output_dir}\")\n",
    "print(f\"\\n📊 Files created:\")\n",
    "print(f\"   - historical_goals_distribution.png\")\n",
    "print(f\"   - goals_by_position_tier.png\")\n",
    "print(f\"   - current_goals_leaders.png\")\n",
    "print(f\"   - goals_scatter_historical.png\")\n",
    "print(f\"   - goals_analysis_summary.txt\")\n",
    "print(f\"\\n🎯 Next: Review findings and proceed to Part 1C (Composite Scores Analysis)\")"
   ]
  }
 ],
 "metadata": {
  "kernelspec": {
   "display_name": "Python 3",
   "language": "python",
   "name": "python3"
  },
  "language_info": {
   "codemirror_mode": {
    "name": "ipython",
    "version": 3
   },
   "file_extension": ".py",
   "mimetype": "text/x-python",
   "name": "python",
   "nbconvert_exporter": "python",
   "pygments_lexer": "ipython3",
   "version": "3.13.1"
  }
 },
 "nbformat": 4,
 "nbformat_minor": 4
}
